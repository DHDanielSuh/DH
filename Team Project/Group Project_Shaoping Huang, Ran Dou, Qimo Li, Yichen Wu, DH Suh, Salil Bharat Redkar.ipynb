{
 "cells": [
  {
   "cell_type": "code",
   "execution_count": 1,
   "metadata": {},
   "outputs": [
    {
     "data": {
      "text/html": [
       "<style>\n",
       "body {\n",
       "    font-family: \"Times New Roman\";\n",
       "}\n",
       "</style>  "
      ],
      "text/plain": [
       "<IPython.core.display.HTML object>"
      ]
     },
     "metadata": {},
     "output_type": "display_data"
    }
   ],
   "source": [
    "%%html\n",
    "<style>\n",
    "body {\n",
    "    font-family: \"Times New Roman\";\n",
    "}\n",
    "</style>  "
   ]
  },
  {
   "cell_type": "markdown",
   "metadata": {},
   "source": [
    "# BUS241 Machine Learning_Group Project\n",
    "### Data: December 11, 2018\n",
    "### Group Members: Shaoping Huang, Ran Dou, Qimo Li, Yichen Wu, DH Suh, Salil Bharat Redkar\n",
    "### Data Set: Kobe Bryant Shot Selection\n",
    "(https://www.kaggle.com/c/kobe-bryant-shot-selection)"
   ]
  },
  {
   "cell_type": "code",
   "execution_count": 2,
   "metadata": {},
   "outputs": [],
   "source": [
    "# basic tools\n",
    "import numpy as np\n",
    "import pandas as pd\n",
    "import matplotlib as mpl\n",
    "import matplotlib.pyplot as plt\n",
    "import seaborn as sns\n",
    "%matplotlib inline\n",
    "\n",
    "# usual cross validation machinery\n",
    "from sklearn.model_selection import train_test_split\n",
    "\n",
    "# classification tools\n",
    "# from sklearn.feature_selection import chi2\n",
    "# from sklearn.feature_selection import SelectKBest\n",
    "from sklearn.model_selection import train_test_split\n",
    "from sklearn.linear_model import LogisticRegression, RidgeClassifier, Ridge, Lasso\n",
    "# from sklearn.linear_model import RidgeClassifierCV\n",
    "# from sklearn.ensemble import GradientBoostingClassifier\n",
    "# from sklearn.model_selection import cross_val_score\n",
    "# from sklearn.metrics import roc_auc_score\n",
    "# from sklearn.utils import shuffle \n",
    "# from sklearn.svm import SVC\n",
    "# from sklearn.metrics import accuracy_score\n",
    "sns.set()"
   ]
  },
  {
   "cell_type": "markdown",
   "metadata": {},
   "source": [
    "***"
   ]
  },
  {
   "cell_type": "markdown",
   "metadata": {},
   "source": [
    "# 1. Data Processing"
   ]
  },
  {
   "cell_type": "markdown",
   "metadata": {},
   "source": [
    "The idea behind choosing the dataset was trying to predict successful shots made by Kobe Bryant based on 25 variables which describe the shot. These include the period the shot was made in, how many minutes remained in the game, the type of shot (jump or layup) etc.  \n",
    "After reading the csv file, the first part of the data cleaning involved the removal of certain columns that were thought to not help in the predictive analysis, for example the name of the team Kobe was currently in, team id as well as game ID. The next part of the process was transforming the data, which involved converting the time units into seconds, date conversions and data binning (discretizing the continuous variables) for the continuous variables that defined the longitude and latitude on the shot that was made as well as making the one-hot encoding for getting dummies for categorical variables.  "
   ]
  },
  {
   "cell_type": "markdown",
   "metadata": {},
   "source": [
    "### 1.1 Data Loading"
   ]
  },
  {
   "cell_type": "code",
   "execution_count": 3,
   "metadata": {},
   "outputs": [
    {
     "data": {
      "text/html": [
       "<div>\n",
       "<style scoped>\n",
       "    .dataframe tbody tr th:only-of-type {\n",
       "        vertical-align: middle;\n",
       "    }\n",
       "\n",
       "    .dataframe tbody tr th {\n",
       "        vertical-align: top;\n",
       "    }\n",
       "\n",
       "    .dataframe thead th {\n",
       "        text-align: right;\n",
       "    }\n",
       "</style>\n",
       "<table border=\"1\" class=\"dataframe\">\n",
       "  <thead>\n",
       "    <tr style=\"text-align: right;\">\n",
       "      <th></th>\n",
       "      <th>action_type</th>\n",
       "      <th>combined_shot_type</th>\n",
       "      <th>game_event_id</th>\n",
       "      <th>game_id</th>\n",
       "      <th>lat</th>\n",
       "      <th>loc_x</th>\n",
       "      <th>loc_y</th>\n",
       "      <th>lon</th>\n",
       "      <th>minutes_remaining</th>\n",
       "      <th>period</th>\n",
       "      <th>...</th>\n",
       "      <th>shot_type</th>\n",
       "      <th>shot_zone_area</th>\n",
       "      <th>shot_zone_basic</th>\n",
       "      <th>shot_zone_range</th>\n",
       "      <th>team_id</th>\n",
       "      <th>team_name</th>\n",
       "      <th>game_date</th>\n",
       "      <th>matchup</th>\n",
       "      <th>opponent</th>\n",
       "      <th>shot_id</th>\n",
       "    </tr>\n",
       "  </thead>\n",
       "  <tbody>\n",
       "    <tr>\n",
       "      <th>1</th>\n",
       "      <td>Jump Shot</td>\n",
       "      <td>Jump Shot</td>\n",
       "      <td>12</td>\n",
       "      <td>20000012</td>\n",
       "      <td>34.0443</td>\n",
       "      <td>-157</td>\n",
       "      <td>0</td>\n",
       "      <td>-118.4268</td>\n",
       "      <td>10</td>\n",
       "      <td>1</td>\n",
       "      <td>...</td>\n",
       "      <td>2PT Field Goal</td>\n",
       "      <td>Left Side(L)</td>\n",
       "      <td>Mid-Range</td>\n",
       "      <td>8-16 ft.</td>\n",
       "      <td>1610612747</td>\n",
       "      <td>Los Angeles Lakers</td>\n",
       "      <td>2000-10-31</td>\n",
       "      <td>LAL @ POR</td>\n",
       "      <td>POR</td>\n",
       "      <td>2</td>\n",
       "    </tr>\n",
       "    <tr>\n",
       "      <th>2</th>\n",
       "      <td>Jump Shot</td>\n",
       "      <td>Jump Shot</td>\n",
       "      <td>35</td>\n",
       "      <td>20000012</td>\n",
       "      <td>33.9093</td>\n",
       "      <td>-101</td>\n",
       "      <td>135</td>\n",
       "      <td>-118.3708</td>\n",
       "      <td>7</td>\n",
       "      <td>1</td>\n",
       "      <td>...</td>\n",
       "      <td>2PT Field Goal</td>\n",
       "      <td>Left Side Center(LC)</td>\n",
       "      <td>Mid-Range</td>\n",
       "      <td>16-24 ft.</td>\n",
       "      <td>1610612747</td>\n",
       "      <td>Los Angeles Lakers</td>\n",
       "      <td>2000-10-31</td>\n",
       "      <td>LAL @ POR</td>\n",
       "      <td>POR</td>\n",
       "      <td>3</td>\n",
       "    </tr>\n",
       "    <tr>\n",
       "      <th>3</th>\n",
       "      <td>Jump Shot</td>\n",
       "      <td>Jump Shot</td>\n",
       "      <td>43</td>\n",
       "      <td>20000012</td>\n",
       "      <td>33.8693</td>\n",
       "      <td>138</td>\n",
       "      <td>175</td>\n",
       "      <td>-118.1318</td>\n",
       "      <td>6</td>\n",
       "      <td>1</td>\n",
       "      <td>...</td>\n",
       "      <td>2PT Field Goal</td>\n",
       "      <td>Right Side Center(RC)</td>\n",
       "      <td>Mid-Range</td>\n",
       "      <td>16-24 ft.</td>\n",
       "      <td>1610612747</td>\n",
       "      <td>Los Angeles Lakers</td>\n",
       "      <td>2000-10-31</td>\n",
       "      <td>LAL @ POR</td>\n",
       "      <td>POR</td>\n",
       "      <td>4</td>\n",
       "    </tr>\n",
       "    <tr>\n",
       "      <th>4</th>\n",
       "      <td>Driving Dunk Shot</td>\n",
       "      <td>Dunk</td>\n",
       "      <td>155</td>\n",
       "      <td>20000012</td>\n",
       "      <td>34.0443</td>\n",
       "      <td>0</td>\n",
       "      <td>0</td>\n",
       "      <td>-118.2698</td>\n",
       "      <td>6</td>\n",
       "      <td>2</td>\n",
       "      <td>...</td>\n",
       "      <td>2PT Field Goal</td>\n",
       "      <td>Center(C)</td>\n",
       "      <td>Restricted Area</td>\n",
       "      <td>Less Than 8 ft.</td>\n",
       "      <td>1610612747</td>\n",
       "      <td>Los Angeles Lakers</td>\n",
       "      <td>2000-10-31</td>\n",
       "      <td>LAL @ POR</td>\n",
       "      <td>POR</td>\n",
       "      <td>5</td>\n",
       "    </tr>\n",
       "    <tr>\n",
       "      <th>5</th>\n",
       "      <td>Jump Shot</td>\n",
       "      <td>Jump Shot</td>\n",
       "      <td>244</td>\n",
       "      <td>20000012</td>\n",
       "      <td>34.0553</td>\n",
       "      <td>-145</td>\n",
       "      <td>-11</td>\n",
       "      <td>-118.4148</td>\n",
       "      <td>9</td>\n",
       "      <td>3</td>\n",
       "      <td>...</td>\n",
       "      <td>2PT Field Goal</td>\n",
       "      <td>Left Side(L)</td>\n",
       "      <td>Mid-Range</td>\n",
       "      <td>8-16 ft.</td>\n",
       "      <td>1610612747</td>\n",
       "      <td>Los Angeles Lakers</td>\n",
       "      <td>2000-10-31</td>\n",
       "      <td>LAL @ POR</td>\n",
       "      <td>POR</td>\n",
       "      <td>6</td>\n",
       "    </tr>\n",
       "  </tbody>\n",
       "</table>\n",
       "<p>5 rows × 25 columns</p>\n",
       "</div>"
      ],
      "text/plain": [
       "         action_type combined_shot_type  game_event_id   game_id      lat  \\\n",
       "1          Jump Shot          Jump Shot             12  20000012  34.0443   \n",
       "2          Jump Shot          Jump Shot             35  20000012  33.9093   \n",
       "3          Jump Shot          Jump Shot             43  20000012  33.8693   \n",
       "4  Driving Dunk Shot               Dunk            155  20000012  34.0443   \n",
       "5          Jump Shot          Jump Shot            244  20000012  34.0553   \n",
       "\n",
       "   loc_x  loc_y       lon  minutes_remaining  period   ...          shot_type  \\\n",
       "1   -157      0 -118.4268                 10       1   ...     2PT Field Goal   \n",
       "2   -101    135 -118.3708                  7       1   ...     2PT Field Goal   \n",
       "3    138    175 -118.1318                  6       1   ...     2PT Field Goal   \n",
       "4      0      0 -118.2698                  6       2   ...     2PT Field Goal   \n",
       "5   -145    -11 -118.4148                  9       3   ...     2PT Field Goal   \n",
       "\n",
       "          shot_zone_area  shot_zone_basic  shot_zone_range     team_id  \\\n",
       "1           Left Side(L)        Mid-Range         8-16 ft.  1610612747   \n",
       "2   Left Side Center(LC)        Mid-Range        16-24 ft.  1610612747   \n",
       "3  Right Side Center(RC)        Mid-Range        16-24 ft.  1610612747   \n",
       "4              Center(C)  Restricted Area  Less Than 8 ft.  1610612747   \n",
       "5           Left Side(L)        Mid-Range         8-16 ft.  1610612747   \n",
       "\n",
       "            team_name   game_date    matchup opponent  shot_id  \n",
       "1  Los Angeles Lakers  2000-10-31  LAL @ POR      POR        2  \n",
       "2  Los Angeles Lakers  2000-10-31  LAL @ POR      POR        3  \n",
       "3  Los Angeles Lakers  2000-10-31  LAL @ POR      POR        4  \n",
       "4  Los Angeles Lakers  2000-10-31  LAL @ POR      POR        5  \n",
       "5  Los Angeles Lakers  2000-10-31  LAL @ POR      POR        6  \n",
       "\n",
       "[5 rows x 25 columns]"
      ]
     },
     "execution_count": 3,
     "metadata": {},
     "output_type": "execute_result"
    }
   ],
   "source": [
    "# import the original data set\n",
    "data = pd.read_csv(\"data.csv\")\n",
    "data = data[data.shot_made_flag.isnull()==False]  # filter out all the NA value in the shot_made_flag column\n",
    "data.head()"
   ]
  },
  {
   "cell_type": "code",
   "execution_count": 4,
   "metadata": {},
   "outputs": [
    {
     "name": "stdout",
     "output_type": "stream",
     "text": [
      "['action_type', 'combined_shot_type', 'game_event_id', 'game_id', 'lat', 'loc_x', 'loc_y', 'lon', 'minutes_remaining', 'period', 'playoffs', 'season', 'seconds_remaining', 'shot_distance', 'shot_made_flag', 'shot_type', 'shot_zone_area', 'shot_zone_basic', 'shot_zone_range', 'team_id', 'team_name', 'game_date', 'matchup', 'opponent', 'shot_id']\n"
     ]
    }
   ],
   "source": [
    "# explore the columns of the data set\n",
    "columns = []\n",
    "for col in data.columns:\n",
    "    columns.append(col)\n",
    "print(columns)"
   ]
  },
  {
   "cell_type": "code",
   "execution_count": 5,
   "metadata": {},
   "outputs": [
    {
     "data": {
      "text/plain": [
       "0    14232\n",
       "1    11465\n",
       "Name: shot_made_flag, dtype: int64"
      ]
     },
     "execution_count": 5,
     "metadata": {},
     "output_type": "execute_result"
    }
   ],
   "source": [
    "# have a look at the target dependent variable\n",
    "data.shot_made_flag = data.shot_made_flag.astype(int)\n",
    "data.shot_made_flag.value_counts()"
   ]
  },
  {
   "cell_type": "markdown",
   "metadata": {},
   "source": [
    "### 1.2 Data Eliminating"
   ]
  },
  {
   "cell_type": "code",
   "execution_count": 6,
   "metadata": {},
   "outputs": [],
   "source": [
    "data.drop('game_id', axis=1, inplace=True) # Independent\n",
    "data.drop('game_event_id', axis=1, inplace=True) # Independent\n",
    "data.drop('shot_id', axis=1, inplace=True) # Shot ID is unique\n",
    "\n",
    "data.drop('lat', axis=1, inplace=True) # Correlated with loc_x\n",
    "data.drop('lon', axis=1, inplace=True) # Correlated with loc_y\n",
    "\n",
    "data.drop('team_id', axis=1, inplace=True) # Always one number\n",
    "data.drop('team_name', axis=1, inplace=True) # Always LA Lakers"
   ]
  },
  {
   "cell_type": "markdown",
   "metadata": {},
   "source": [
    "### 1.3 Data Transforming"
   ]
  },
  {
   "cell_type": "code",
   "execution_count": 7,
   "metadata": {},
   "outputs": [],
   "source": [
    "# Remaining time\n",
    "data['seconds_from_period_end'] = 60 * data['minutes_remaining'] + data['seconds_remaining']\n",
    "data['last_5_sec_in_period'] = data['seconds_from_period_end'] < 5\n",
    "\n",
    "data.drop('minutes_remaining', axis=1, inplace=True)\n",
    "data.drop('seconds_remaining', axis=1, inplace=True)\n",
    "data.drop('seconds_from_period_end', axis=1, inplace=True)\n",
    "\n",
    "## Matchup - (away/home)\n",
    "data['home_play'] = data['matchup'].str.contains('vs').astype('int')\n",
    "data.drop('matchup', axis=1, inplace=True)\n",
    "\n",
    "# Game date\n",
    "data['game_date'] = pd.to_datetime(data['game_date'])\n",
    "data['game_year'] = data['game_date'].dt.year\n",
    "data['game_month'] = data['game_date'].dt.month\n",
    "data.drop('game_date', axis=1, inplace=True)\n",
    "\n",
    "# Loc_x, and loc_y binning\n",
    "data['loc_x'] = pd.cut(data['loc_x'], 25)\n",
    "data['loc_y'] = pd.cut(data['loc_y'], 25)\n",
    "\n",
    "# Replace 20 least common action types with value 'Other'\n",
    "rare_action_types = data['action_type'].value_counts().sort_values().index.values[:20]\n",
    "data.loc[data['action_type'].isin(rare_action_types), 'action_type'] = 'Other'"
   ]
  },
  {
   "cell_type": "markdown",
   "metadata": {},
   "source": [
    "### 1.4 Categorical variables to dummies"
   ]
  },
  {
   "cell_type": "code",
   "execution_count": 8,
   "metadata": {},
   "outputs": [],
   "source": [
    "# get all the columns names we need to deal with\n",
    "categorial_features = ['action_type', 'combined_shot_type', 'period', 'season', 'shot_type',\n",
    "                   'shot_zone_area', 'shot_zone_basic', 'shot_zone_range', 'game_year',\n",
    "                   'game_month', 'opponent', 'loc_x', 'loc_y']\n",
    "\n",
    "# change the variables above into dummy variables\n",
    "data_cp = data.copy()\n",
    "dummies = []\n",
    "for feature in categorial_features:\n",
    "    dummies.append(pd.get_dummies(data[feature], prefix=feature))\n",
    "data_cp.drop(categorial_features, axis = 1, inplace = True)\n",
    "data_cp = pd.concat([data_cp] + dummies, axis = 1)"
   ]
  },
  {
   "cell_type": "code",
   "execution_count": 9,
   "metadata": {},
   "outputs": [
    {
     "data": {
      "text/html": [
       "<div>\n",
       "<style scoped>\n",
       "    .dataframe tbody tr th:only-of-type {\n",
       "        vertical-align: middle;\n",
       "    }\n",
       "\n",
       "    .dataframe tbody tr th {\n",
       "        vertical-align: top;\n",
       "    }\n",
       "\n",
       "    .dataframe thead th {\n",
       "        text-align: right;\n",
       "    }\n",
       "</style>\n",
       "<table border=\"1\" class=\"dataframe\">\n",
       "  <thead>\n",
       "    <tr style=\"text-align: right;\">\n",
       "      <th></th>\n",
       "      <th>playoffs</th>\n",
       "      <th>shot_distance</th>\n",
       "      <th>shot_made_flag</th>\n",
       "      <th>last_5_sec_in_period</th>\n",
       "      <th>home_play</th>\n",
       "      <th>action_type_Alley Oop Dunk Shot</th>\n",
       "      <th>action_type_Alley Oop Layup shot</th>\n",
       "      <th>action_type_Driving Dunk Shot</th>\n",
       "      <th>action_type_Driving Finger Roll Layup Shot</th>\n",
       "      <th>action_type_Driving Finger Roll Shot</th>\n",
       "      <th>...</th>\n",
       "      <th>loc_y_(457.0, 490.4]</th>\n",
       "      <th>loc_y_(490.4, 523.8]</th>\n",
       "      <th>loc_y_(523.8, 557.2]</th>\n",
       "      <th>loc_y_(557.2, 590.6]</th>\n",
       "      <th>loc_y_(590.6, 624.0]</th>\n",
       "      <th>loc_y_(624.0, 657.4]</th>\n",
       "      <th>loc_y_(657.4, 690.8]</th>\n",
       "      <th>loc_y_(690.8, 724.2]</th>\n",
       "      <th>loc_y_(724.2, 757.6]</th>\n",
       "      <th>loc_y_(757.6, 791.0]</th>\n",
       "    </tr>\n",
       "  </thead>\n",
       "  <tbody>\n",
       "    <tr>\n",
       "      <th>1</th>\n",
       "      <td>0</td>\n",
       "      <td>15</td>\n",
       "      <td>0</td>\n",
       "      <td>False</td>\n",
       "      <td>0</td>\n",
       "      <td>0</td>\n",
       "      <td>0</td>\n",
       "      <td>0</td>\n",
       "      <td>0</td>\n",
       "      <td>0</td>\n",
       "      <td>...</td>\n",
       "      <td>0</td>\n",
       "      <td>0</td>\n",
       "      <td>0</td>\n",
       "      <td>0</td>\n",
       "      <td>0</td>\n",
       "      <td>0</td>\n",
       "      <td>0</td>\n",
       "      <td>0</td>\n",
       "      <td>0</td>\n",
       "      <td>0</td>\n",
       "    </tr>\n",
       "    <tr>\n",
       "      <th>2</th>\n",
       "      <td>0</td>\n",
       "      <td>16</td>\n",
       "      <td>1</td>\n",
       "      <td>False</td>\n",
       "      <td>0</td>\n",
       "      <td>0</td>\n",
       "      <td>0</td>\n",
       "      <td>0</td>\n",
       "      <td>0</td>\n",
       "      <td>0</td>\n",
       "      <td>...</td>\n",
       "      <td>0</td>\n",
       "      <td>0</td>\n",
       "      <td>0</td>\n",
       "      <td>0</td>\n",
       "      <td>0</td>\n",
       "      <td>0</td>\n",
       "      <td>0</td>\n",
       "      <td>0</td>\n",
       "      <td>0</td>\n",
       "      <td>0</td>\n",
       "    </tr>\n",
       "    <tr>\n",
       "      <th>3</th>\n",
       "      <td>0</td>\n",
       "      <td>22</td>\n",
       "      <td>0</td>\n",
       "      <td>False</td>\n",
       "      <td>0</td>\n",
       "      <td>0</td>\n",
       "      <td>0</td>\n",
       "      <td>0</td>\n",
       "      <td>0</td>\n",
       "      <td>0</td>\n",
       "      <td>...</td>\n",
       "      <td>0</td>\n",
       "      <td>0</td>\n",
       "      <td>0</td>\n",
       "      <td>0</td>\n",
       "      <td>0</td>\n",
       "      <td>0</td>\n",
       "      <td>0</td>\n",
       "      <td>0</td>\n",
       "      <td>0</td>\n",
       "      <td>0</td>\n",
       "    </tr>\n",
       "    <tr>\n",
       "      <th>4</th>\n",
       "      <td>0</td>\n",
       "      <td>0</td>\n",
       "      <td>1</td>\n",
       "      <td>False</td>\n",
       "      <td>0</td>\n",
       "      <td>0</td>\n",
       "      <td>0</td>\n",
       "      <td>1</td>\n",
       "      <td>0</td>\n",
       "      <td>0</td>\n",
       "      <td>...</td>\n",
       "      <td>0</td>\n",
       "      <td>0</td>\n",
       "      <td>0</td>\n",
       "      <td>0</td>\n",
       "      <td>0</td>\n",
       "      <td>0</td>\n",
       "      <td>0</td>\n",
       "      <td>0</td>\n",
       "      <td>0</td>\n",
       "      <td>0</td>\n",
       "    </tr>\n",
       "    <tr>\n",
       "      <th>5</th>\n",
       "      <td>0</td>\n",
       "      <td>14</td>\n",
       "      <td>0</td>\n",
       "      <td>False</td>\n",
       "      <td>0</td>\n",
       "      <td>0</td>\n",
       "      <td>0</td>\n",
       "      <td>0</td>\n",
       "      <td>0</td>\n",
       "      <td>0</td>\n",
       "      <td>...</td>\n",
       "      <td>0</td>\n",
       "      <td>0</td>\n",
       "      <td>0</td>\n",
       "      <td>0</td>\n",
       "      <td>0</td>\n",
       "      <td>0</td>\n",
       "      <td>0</td>\n",
       "      <td>0</td>\n",
       "      <td>0</td>\n",
       "      <td>0</td>\n",
       "    </tr>\n",
       "  </tbody>\n",
       "</table>\n",
       "<p>5 rows × 207 columns</p>\n",
       "</div>"
      ],
      "text/plain": [
       "   playoffs  shot_distance  shot_made_flag  last_5_sec_in_period  home_play  \\\n",
       "1         0             15               0                 False          0   \n",
       "2         0             16               1                 False          0   \n",
       "3         0             22               0                 False          0   \n",
       "4         0              0               1                 False          0   \n",
       "5         0             14               0                 False          0   \n",
       "\n",
       "   action_type_Alley Oop Dunk Shot  action_type_Alley Oop Layup shot  \\\n",
       "1                                0                                 0   \n",
       "2                                0                                 0   \n",
       "3                                0                                 0   \n",
       "4                                0                                 0   \n",
       "5                                0                                 0   \n",
       "\n",
       "   action_type_Driving Dunk Shot  action_type_Driving Finger Roll Layup Shot  \\\n",
       "1                              0                                           0   \n",
       "2                              0                                           0   \n",
       "3                              0                                           0   \n",
       "4                              1                                           0   \n",
       "5                              0                                           0   \n",
       "\n",
       "   action_type_Driving Finger Roll Shot          ...           \\\n",
       "1                                     0          ...            \n",
       "2                                     0          ...            \n",
       "3                                     0          ...            \n",
       "4                                     0          ...            \n",
       "5                                     0          ...            \n",
       "\n",
       "   loc_y_(457.0, 490.4]  loc_y_(490.4, 523.8]  loc_y_(523.8, 557.2]  \\\n",
       "1                     0                     0                     0   \n",
       "2                     0                     0                     0   \n",
       "3                     0                     0                     0   \n",
       "4                     0                     0                     0   \n",
       "5                     0                     0                     0   \n",
       "\n",
       "   loc_y_(557.2, 590.6]  loc_y_(590.6, 624.0]  loc_y_(624.0, 657.4]  \\\n",
       "1                     0                     0                     0   \n",
       "2                     0                     0                     0   \n",
       "3                     0                     0                     0   \n",
       "4                     0                     0                     0   \n",
       "5                     0                     0                     0   \n",
       "\n",
       "   loc_y_(657.4, 690.8]  loc_y_(690.8, 724.2]  loc_y_(724.2, 757.6]  \\\n",
       "1                     0                     0                     0   \n",
       "2                     0                     0                     0   \n",
       "3                     0                     0                     0   \n",
       "4                     0                     0                     0   \n",
       "5                     0                     0                     0   \n",
       "\n",
       "   loc_y_(757.6, 791.0]  \n",
       "1                     0  \n",
       "2                     0  \n",
       "3                     0  \n",
       "4                     0  \n",
       "5                     0  \n",
       "\n",
       "[5 rows x 207 columns]"
      ]
     },
     "execution_count": 9,
     "metadata": {},
     "output_type": "execute_result"
    }
   ],
   "source": [
    "# have a look at the eventual data set\n",
    "data_cp.head()"
   ]
  },
  {
   "cell_type": "markdown",
   "metadata": {},
   "source": [
    "***"
   ]
  },
  {
   "cell_type": "markdown",
   "metadata": {},
   "source": [
    "## 2. Visualizations"
   ]
  },
  {
   "cell_type": "markdown",
   "metadata": {},
   "source": [
    "### 2.1 Hit Rate on Shot Types"
   ]
  },
  {
   "cell_type": "code",
   "execution_count": 10,
   "metadata": {},
   "outputs": [
    {
     "data": {
      "text/plain": [
       "Jump Shot    19710\n",
       "Layup         4532\n",
       "Dunk          1056\n",
       "Tip Shot       152\n",
       "Hook Shot      127\n",
       "Bank Shot      120\n",
       "Name: combined_shot_type, dtype: int64"
      ]
     },
     "execution_count": 10,
     "metadata": {},
     "output_type": "execute_result"
    }
   ],
   "source": [
    "# check shot types\n",
    "data.combined_shot_type.value_counts()"
   ]
  },
  {
   "cell_type": "code",
   "execution_count": 11,
   "metadata": {},
   "outputs": [
    {
     "data": {
      "text/plain": [
       "Text(0.5,1,'Hit Rate for each Shot Type')"
      ]
     },
     "execution_count": 11,
     "metadata": {},
     "output_type": "execute_result"
    },
    {
     "data": {
      "image/png": "[encoded data removed]",
      "text/plain": [
       "<Figure size 432x288 with 1 Axes>"
      ]
     },
     "metadata": {},
     "output_type": "display_data"
    }
   ],
   "source": [
    "combined_shot_type_shot_made_rate = data.groupby('combined_shot_type')['shot_made_flag'].sum() / data.groupby('combined_shot_type')['shot_made_flag'].size()\n",
    "combined_shot_type_shot_made_rate.sort_values(ascending=False, inplace = True)\n",
    "combined_shot_type_shot_made_rate.plot.bar()\n",
    "plt.title(\"Hit Rate for each Shot Type\")"
   ]
  },
  {
   "cell_type": "markdown",
   "metadata": {},
   "source": [
    "### 2.2 Hit Rate on Shot Zones"
   ]
  },
  {
   "cell_type": "code",
   "execution_count": 12,
   "metadata": {},
   "outputs": [
    {
     "data": {
      "image/png": "[encoded data removed]",
      "text/plain": [
       "<Figure size 432x288 with 1 Axes>"
      ]
     },
     "metadata": {},
     "output_type": "display_data"
    },
    {
     "data": {
      "image/png": "[encoded data removed]",
      "text/plain": [
       "<Figure size 432x288 with 1 Axes>"
      ]
     },
     "metadata": {},
     "output_type": "display_data"
    },
    {
     "data": {
      "image/png": "[encoded data removed]",
      "text/plain": [
       "<Figure size 432x288 with 1 Axes>"
      ]
     },
     "metadata": {},
     "output_type": "display_data"
    }
   ],
   "source": [
    "for feature in ['shot_zone_area', 'shot_zone_basic', 'shot_zone_range']:\n",
    "    feature_rate = data.groupby(feature)['shot_made_flag'].sum() / data.groupby(feature)['shot_made_flag'].size()\n",
    "    feature_rate.sort_values(inplace = True)\n",
    "    feature_rate.plot.bar()\n",
    "    plt.title(feature)\n",
    "    plt.show()"
   ]
  },
  {
   "cell_type": "markdown",
   "metadata": {},
   "source": [
    "## 3. Rearch on Ridge & Lasso\n",
    "**Compare ridge and lasso on some simulated data with a large number of forecasters (right hand side) variables. Run monte-carlos to compare the two. Are there differences? Can you make any statements about which is preferred?**"
   ]
  },
  {
   "cell_type": "markdown",
   "metadata": {},
   "source": [
    "Now we are going to run the Ridge and Lasso regression to penalize the magnitude of coefficients of features along with minimizing the error between predicted and actual observations."
   ]
  },
  {
   "cell_type": "code",
   "execution_count": 13,
   "metadata": {},
   "outputs": [],
   "source": [
    "# creat X and y from the original data set\n",
    "X = data_cp.drop(['shot_made_flag'], axis = 1)  # make a copy of the columns to X (except shot_made_flag)\n",
    "y = data_cp.shot_made_flag.copy()  # make a copy of the column shot_made_flag to y"
   ]
  },
  {
   "cell_type": "code",
   "execution_count": 14,
   "metadata": {},
   "outputs": [],
   "source": [
    "# train and test data set split\n",
    "X_train, X_test, y_train, y_test = train_test_split(X, y, test_size=0.2, random_state =42)"
   ]
  },
  {
   "cell_type": "markdown",
   "metadata": {},
   "source": [
    "### 3.1 Ridge"
   ]
  },
  {
   "cell_type": "markdown",
   "metadata": {},
   "source": [
    "The Ridge regression performs the regularization that adds a factor of the sum of squares of coefficients in the optimization objective. Therefore, ridge regression optimizes the equation that Objective = RSS(Least Squares Objectives) + α * (sum of the square of coefficients). Moreover, α (alpha) is the parameter which balances the amount of emphasis given to minimizing RSS vs. minimizing the sum of the square of coefficients. In our cases, α (alpha) takes 13 values from 0.01 to 20 as the parameters on initialization toward the training dataset to figure out the value of α that returns the highest accuracy. As the value of alpha is iterated over a range of values. Also, the output shows that α = 1 returns the highest cross-validation score in comparison with all the other values and thus should be chosen. So then we applied the model with α = 1 toward the training dataset to see the level of overfitting. Then we applied the same model to the testing data set to see the accuracy of prediction."
   ]
  },
  {
   "cell_type": "code",
   "execution_count": 15,
   "metadata": {},
   "outputs": [
    {
     "name": "stdout",
     "output_type": "stream",
     "text": [
      "alpha = 0.01: \n",
      "Train Set 0.1605 | Test Set 0.1398\n",
      "alpha = 0.1: \n",
      "Train Set 0.1605 | Test Set 0.1398\n",
      "alpha = 1: \n",
      "Train Set 0.1604 | Test Set 0.1399\n",
      "alpha = 2: \n",
      "Train Set 0.1604 | Test Set 0.14\n",
      "alpha = 4: \n",
      "Train Set 0.1603 | Test Set 0.14\n",
      "alpha = 6: \n",
      "Train Set 0.1603 | Test Set 0.1401\n",
      "alpha = 8: \n",
      "Train Set 0.1602 | Test Set 0.1401\n",
      "alpha = 10: \n",
      "Train Set 0.1601 | Test Set 0.1402\n",
      "alpha = 12: \n",
      "Train Set 0.16 | Test Set 0.1402\n",
      "alpha = 14: \n",
      "Train Set 0.16 | Test Set 0.1402\n",
      "alpha = 16: \n",
      "Train Set 0.1599 | Test Set 0.1402\n",
      "alpha = 18: \n",
      "Train Set 0.1598 | Test Set 0.1402\n",
      "alpha = 20: \n",
      "Train Set 0.1597 | Test Set 0.1401\n"
     ]
    }
   ],
   "source": [
    "alpha_range = [1e-2, 1e-1, 1, 2, 4, 6, 8, 10, 12, 14, 16, 18, 20] # set the range for alpha\n",
    "nmc = range(50) # iteration number\n",
    "rsquare_train = []\n",
    "rsquare_test = []\n",
    "\n",
    "for a in alpha_range:\n",
    "    trainscore = []\n",
    "    testscore = []\n",
    "    for i in nmc:\n",
    "        model_ridge = Ridge(alpha=a)\n",
    "        model_ridge.fit(X_train, y_train)\n",
    "        y_pred = model_ridge.predict(X_test)\n",
    "        trainscore.append(model_ridge.score(X_train, y_train))\n",
    "        testscore.append(model_ridge.score(X_test, y_test))\n",
    "    mean_train = np.mean(trainscore)\n",
    "    mean_test = np.mean(testscore)\n",
    "    print(\"alpha = \"+str(a)+\": \")\n",
    "    print(\"Train Set \"+str(round(mean_train,4))+\" | \"+\"Test Set \"+str(round(mean_test,4)))\n",
    "    rsquare_train.append(mean_train)\n",
    "    rsquare_test.append(mean_test)"
   ]
  },
  {
   "cell_type": "code",
   "execution_count": 16,
   "metadata": {},
   "outputs": [
    {
     "data": {
      "text/plain": [
       "<matplotlib.legend.Legend at 0x103b6df60>"
      ]
     },
     "execution_count": 16,
     "metadata": {},
     "output_type": "execute_result"
    },
    {
     "data": {
      "image/png": "[encoded data removed]",
      "text/plain": [
       "<Figure size 432x288 with 1 Axes>"
      ]
     },
     "metadata": {},
     "output_type": "display_data"
    }
   ],
   "source": [
    "plt.semilogx(alpha_range, rsquare_train, label=\"training set\")\n",
    "plt.semilogx(alpha_range, rsquare_test, label=\"test set\")\n",
    "plt.ylabel(\"R square\")\n",
    "plt.xlabel(\"alpha\")\n",
    "plt.title(\"Ridge\")\n",
    "plt.legend()"
   ]
  },
  {
   "cell_type": "markdown",
   "metadata": {},
   "source": [
    "### 3.2 Lasso"
   ]
  },
  {
   "cell_type": "markdown",
   "metadata": {},
   "source": [
    "Regarding the Lasso regression (Least Absolute Shrinkage and Selection Operator), it performs the regualrization, which adds a factor of sum of absolute value of coefficients in the optimization objective for the equation that Objective = RSS(Least Squares Objectives) + α * (sum of absolute value of coefficients). Moreover, α (alpha) is the parameter which balances the amount of emphasis given to minimizing RSS vs. minimizing the sum of the square of coefficients. In our cases, α (alpha) takes 16 values from 0.001 to 1 as the parameters on initialization toward the training dataset to figure out the value of α that returns the highest accuracy. As the value of alpha is iterated over a range of values. Also, the output shows that α = 1 returns the highest cross-validation score in comparison with all the other values and thus should be chosen. So then we applied the model with α = 1 toward the training dataset to see the level of overfitting. Then we applied the same model to the testing data set to see the accuracy of prediction."
   ]
  },
  {
   "cell_type": "code",
   "execution_count": 19,
   "metadata": {
    "scrolled": true
   },
   "outputs": [
    {
     "name": "stdout",
     "output_type": "stream",
     "text": [
      "alpha = 0.001: \n",
      "Train Set 0.0 | Test Set -0.0004\n",
      "alpha = 0.005: \n",
      "Train Set 0.1477 | Test Set 0.1368\n",
      "alpha = 0.01: \n",
      "Train Set 0.1265 | Test Set 0.122\n",
      "alpha = 0.015: \n",
      "Train Set 0.1126 | Test Set 0.108\n",
      "alpha = 0.02: \n",
      "Train Set 0.0969 | Test Set 0.0921\n",
      "alpha = 0.025: \n",
      "Train Set 0.0819 | Test Set 0.0769\n",
      "alpha = 0.03: \n",
      "Train Set 0.0753 | Test Set 0.0706\n",
      "alpha = 0.35: \n",
      "Train Set 0.0673 | Test Set 0.0628\n",
      "alpha = 0.4: \n",
      "Train Set 0.0344 | Test Set 0.0315\n",
      "alpha = 0.45: \n",
      "Train Set 0.0327 | Test Set 0.03\n",
      "alpha = 0.5: \n",
      "Train Set 0.0308 | Test Set 0.0282\n",
      "alpha = 0.6: \n",
      "Train Set 0.0286 | Test Set 0.0263\n",
      "alpha = 0.7: \n",
      "Train Set 0.0236 | Test Set 0.0217\n",
      "alpha = 0.8: \n",
      "Train Set 0.0177 | Test Set 0.0162\n",
      "alpha = 0.9: \n",
      "Train Set 0.0109 | Test Set 0.0098\n",
      "alpha = 1: \n",
      "Train Set 0.0031 | Test Set 0.0025\n"
     ]
    }
   ],
   "source": [
    "alpha_range = [0.001, 0.005, 0.01, 0.015, 0.02, 0.025, 0.03, 0.35, 0.4, 0.45, 0.5, 0.6, 0.7, 0.8, 0.9, 1]\n",
    "nmc = range(50)\n",
    "rsquare_train = []\n",
    "rsquare_test = []\n",
    "\n",
    "for a in alpha_range:\n",
    "    trainscore = []\n",
    "    testscore = []\n",
    "    for i in nmc:\n",
    "        model_lasso = Lasso(alpha=a)\n",
    "        model_lasso.fit(X_train, y_train)\n",
    "        y_pred = model_lasso.predict(X_test)\n",
    "        trainscore.append(model_lasso.score(X_train, y_train))\n",
    "        testscore.append(model_lasso.score(X_test, y_test))\n",
    "    print(\"alpha = \"+str(a)+\": \")\n",
    "    print(\"Train Set \"+str(round(mean_train,4))+\" | \"+\"Test Set \"+str(round(mean_test,4)))\n",
    "    mean_train = np.mean(trainscore)\n",
    "    mean_test = np.mean(testscore)\n",
    "    rsquare_train.append(mean_train)\n",
    "    rsquare_test.append(mean_test)"
   ]
  },
  {
   "cell_type": "code",
   "execution_count": 20,
   "metadata": {},
   "outputs": [
    {
     "data": {
      "text/plain": [
       "<matplotlib.legend.Legend at 0x10d4bd780>"
      ]
     },
     "execution_count": 20,
     "metadata": {},
     "output_type": "execute_result"
    },
    {
     "data": {
      "image/png": "[encoded data removed]",
      "text/plain": [
       "<Figure size 432x288 with 1 Axes>"
      ]
     },
     "metadata": {},
     "output_type": "display_data"
    }
   ],
   "source": [
    "plt.plot(alpha_range, rsquare_train, label=\"training set\")\n",
    "plt.plot(alpha_range, rsquare_test, label=\"test set\")\n",
    "plt.ylabel(\"R square\")\n",
    "plt.xlabel(\"alpha\")\n",
    "plt.title(\"Lasso\")\n",
    "plt.legend()"
   ]
  },
  {
   "cell_type": "markdown",
   "metadata": {},
   "source": [
    "The linear methods of lasso and ridge regression when applied to our dataset, predictably, result in lower accuracy scores. The large amount of right-hand side variables make it especially complicated for achieving a high score with such methods. The differences in magnitudes over all these RHS variables is also a particular problem for these methods. We advise using non-linear methods, especially SVM."
   ]
  },
  {
   "cell_type": "markdown",
   "metadata": {},
   "source": [
    "### 3.3 Ridge Classifier"
   ]
  },
  {
   "cell_type": "markdown",
   "metadata": {},
   "source": [
    "We then have a try on Ridge Classifier, which seems to result in a much higher R square in both the train and the test set."
   ]
  },
  {
   "cell_type": "code",
   "execution_count": 21,
   "metadata": {},
   "outputs": [
    {
     "name": "stdout",
     "output_type": "stream",
     "text": [
      "alpha = 0.01: \n",
      "Train Set 0.683 | Test Set 0.6807\n",
      "alpha = 0.1: \n",
      "Train Set 0.683 | Test Set 0.6807\n",
      "alpha = 1: \n",
      "Train Set 0.683 | Test Set 0.6807\n",
      "alpha = 2: \n",
      "Train Set 0.6829 | Test Set 0.6805\n",
      "alpha = 4: \n",
      "Train Set 0.6829 | Test Set 0.6805\n",
      "alpha = 6: \n",
      "Train Set 0.6829 | Test Set 0.6811\n",
      "alpha = 8: \n",
      "Train Set 0.6827 | Test Set 0.6813\n",
      "alpha = 10: \n",
      "Train Set 0.6826 | Test Set 0.6817\n",
      "alpha = 12: \n",
      "Train Set 0.6827 | Test Set 0.6817\n",
      "alpha = 14: \n",
      "Train Set 0.6825 | Test Set 0.6821\n",
      "alpha = 16: \n",
      "Train Set 0.6825 | Test Set 0.6823\n",
      "alpha = 18: \n",
      "Train Set 0.6823 | Test Set 0.6821\n",
      "alpha = 20: \n",
      "Train Set 0.6822 | Test Set 0.6815\n"
     ]
    }
   ],
   "source": [
    "alpha_range = [1e-2, 1e-1, 1, 2, 4, 6, 8, 10, 12, 14, 16, 18, 20] # set the range for alpha\n",
    "nmc = range(50)\n",
    "rsquare_train = []\n",
    "rsquare_test = []\n",
    "\n",
    "for a in alpha_range:\n",
    "    trainscore = []\n",
    "    testscore = []\n",
    "    for i in nmc:\n",
    "        model_ridge = RidgeClassifier(alpha=a)\n",
    "        model_ridge.fit(X_train, y_train)\n",
    "        y_pred = model_ridge.predict(X_test)\n",
    "        trainscore.append(model_ridge.score(X_train, y_train))\n",
    "        testscore.append(model_ridge.score(X_test, y_test))\n",
    "    mean_train = np.mean(trainscore)\n",
    "    mean_test = np.mean(testscore)\n",
    "    print(\"alpha = \"+str(a)+\": \")\n",
    "    print(\"Train Set \"+str(round(mean_train,4))+\" | \"+\"Test Set \"+str(round(mean_test,4)))\n",
    "    rsquare_train.append(mean_train)\n",
    "    rsquare_test.append(mean_test)"
   ]
  },
  {
   "cell_type": "code",
   "execution_count": 22,
   "metadata": {},
   "outputs": [
    {
     "data": {
      "text/plain": [
       "<matplotlib.legend.Legend at 0x10d58e7b8>"
      ]
     },
     "execution_count": 22,
     "metadata": {},
     "output_type": "execute_result"
    },
    {
     "data": {
      "image/png": "[encoded data removed]",
      "text/plain": [
       "<Figure size 432x288 with 1 Axes>"
      ]
     },
     "metadata": {},
     "output_type": "display_data"
    }
   ],
   "source": [
    "plt.semilogx(alpha_range, rsquare_train, label=\"training set\")\n",
    "plt.semilogx(alpha_range, rsquare_test, label=\"test set\")\n",
    "plt.ylabel(\"R square\")\n",
    "plt.xlabel(\"alpha\")\n",
    "plt.title(\"RidgeClassifier\")\n",
    "plt.legend()"
   ]
  }
 ],
 "metadata": {
  "kernelspec": {
   "display_name": "Python 3",
   "language": "python",
   "name": "python3"
  },
  "language_info": {
   "codemirror_mode": {
    "name": "ipython",
    "version": 3
   },
   "file_extension": ".py",
   "mimetype": "text/x-python",
   "name": "python",
   "nbconvert_exporter": "python",
   "pygments_lexer": "ipython3",
   "version": "3.7.0"
  }
 },
 "nbformat": 4,
 "nbformat_minor": 2
}
